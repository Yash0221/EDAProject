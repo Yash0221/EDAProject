{
  "nbformat": 4,
  "nbformat_minor": 0,
  "metadata": {
    "colab": {
      "private_outputs": true,
      "provenance": [],
      "collapsed_sections": [
        "vncDsAP0Gaoa",
        "FJNUwmbgGyua",
        "w6K7xa23Elo4",
        "yQaldy8SH6Dl",
        "PH-0ReGfmX4f",
        "mDgbUHAGgjLW",
        "O_i_v8NEhb9l",
        "HhfV-JJviCcP",
        "Y3lxredqlCYt",
        "3RnN4peoiCZX",
        "x71ZqKXriCWQ",
        "7hBIi_osiCS2",
        "JlHwYmJAmNHm",
        "35m5QtbWiB9F",
        "PoPl-ycgm1ru",
        "H0kj-8xxnORC",
        "nA9Y7ga8ng1Z",
        "PBTbrJXOngz2",
        "u3PMJOP6ngxN",
        "dauF4eBmngu3",
        "bKJF3rekwFvQ",
        "MSa1f5Uengrz",
        "GF8Ens_Soomf",
        "0wOQAZs5pc--",
        "K5QZ13OEpz2H",
        "lQ7QKXXCp7Bj",
        "448CDAPjqfQr",
        "KSlN3yHqYklG",
        "t6dVpIINYklI",
        "ijmpgYnKYklI",
        "-JiQyfWJYklI",
        "EM7whBJCYoAo",
        "fge-S5ZAYoAp",
        "85gYPyotYoAp",
        "RoGjAbkUYoAp",
        "4Of9eVA-YrdM",
        "iky9q4vBYrdO",
        "F6T5p64dYrdO",
        "y-Ehk30pYrdP",
        "bamQiAODYuh1",
        "QHF8YVU7Yuh3",
        "GwzvFGzlYuh3",
        "qYpmQ266Yuh3",
        "OH-pJp9IphqM",
        "bbFf2-_FphqN",
        "_ouA3fa0phqN",
        "Seke61FWphqN",
        "PIIx-8_IphqN",
        "t27r6nlMphqO",
        "r2jJGEOYphqO",
        "b0JNsNcRphqO",
        "BZR9WyysphqO",
        "jj7wYXLtphqO",
        "eZrbJ2SmphqO",
        "rFu4xreNphqO",
        "YJ55k-q6phqO",
        "gCFgpxoyphqP",
        "OVtJsKN_phqQ",
        "lssrdh5qphqQ",
        "U2RJ9gkRphqQ",
        "1M8mcRywphqQ",
        "tgIPom80phqQ",
        "JMzcOPDDphqR",
        "x-EpHcCOp1ci",
        "X_VqEhTip1ck",
        "8zGJKyg5p1ck",
        "PVzmfK_Ep1ck",
        "n3dbpmDWp1ck",
        "ylSl6qgtp1ck",
        "ZWILFDl5p1ck",
        "M7G43BXep1ck",
        "Ag9LCva-p1cl",
        "E6MkPsBcp1cl",
        "2cELzS2fp1cl",
        "3MPXvC8up1cl",
        "NC_X3p0fY2L0",
        "UV0SzAkaZNRQ",
        "YPEH6qLeZNRQ",
        "q29F0dvdveiT",
        "EXh0U9oCveiU",
        "22aHeOlLveiV",
        "JcMwzZxoAimU",
        "8G2x9gOozGDZ",
        "gCX9965dhzqZ",
        "gIfDvo9L0UH2"
      ],
      "toc_visible": true,
      "include_colab_link": true
    },
    "kernelspec": {
      "name": "python3",
      "display_name": "Python 3"
    },
    "language_info": {
      "name": "python"
    }
  },
  "cells": [
    {
      "cell_type": "markdown",
      "metadata": {
        "id": "view-in-github",
        "colab_type": "text"
      },
      "source": [
        "<a href=\"https://colab.research.google.com/github/Yash0221/Exploratory-Data-Analysis---Hotel-Booking-Analysis/blob/main/EDA_Project_Hotel_Booking_Analysis.ipynb\" target=\"_parent\"><img src=\"https://colab.research.google.com/assets/colab-badge.svg\" alt=\"Open In Colab\"/></a>"
      ]
    },
    {
      "cell_type": "markdown",
      "source": [
        "# **Project Name**    -\n",
        "\n"
      ],
      "metadata": {
        "id": "vncDsAP0Gaoa"
      }
    },
    {
      "cell_type": "markdown",
      "source": [
        "##### **Project Type**    - Exploratory Data Analysis - Hotel Booking Analysis\n",
        "##### **Contribution**    - Individual\n",
        "##### **Team Member 1 -** Yash Dangayach"
      ],
      "metadata": {
        "id": "beRrZCGUAJYm"
      }
    },
    {
      "cell_type": "markdown",
      "source": [
        "# **Project Summary -**"
      ],
      "metadata": {
        "id": "FJNUwmbgGyua"
      }
    },
    {
      "cell_type": "markdown",
      "source": [
        " The real-world data record of hotel reservations for both city and resort hotels, including bookings, cancellations, guest information, etc., is included in this project. The data record spans the years 2015 through 2017. The primary objective of the project is to comprehend and present the dataset from the perspective of the hotel and the consumer, i.e.,\n",
        "\n",
        "*   The causes of cancellations of reservations across different parameters\n",
        "*   The ideal time to reserve a lodging\n",
        "*   High season\n",
        "\n",
        "and offer recommendations on how to lower these cancellations and boost hotel profitability.\n",
        "\n"
      ],
      "metadata": {
        "id": "F6v_1wHtG2nS"
      }
    },
    {
      "cell_type": "markdown",
      "source": [
        "# **GitHub Link -**"
      ],
      "metadata": {
        "id": "w6K7xa23Elo4"
      }
    },
    {
      "cell_type": "markdown",
      "source": [
        "GitHub Link - [EDA Hotel Booking Aanlysis GitHub Link](https://github.com/Yash0221/Exploratory-Data-Analysis---Hotel-Booking-Analysis)"
      ],
      "metadata": {
        "id": "h1o69JH3Eqqn"
      }
    },
    {
      "cell_type": "markdown",
      "source": [
        "# **Problem Statement**\n"
      ],
      "metadata": {
        "id": "yQaldy8SH6Dl"
      }
    },
    {
      "cell_type": "markdown",
      "source": [
        "In this project, the objective is to analyze a Hotel Booking dataset comprising information from both city hotels and resort hotels. The dataset includes details such as booking time, length of stay, number of adults, children, and/or babies, as well as information about available parking spaces, among other factors. The goal is to explore and analyze the data to identify crucial factors that influence hotel bookings. Key questions to address include determining the optimal time of year to book a hotel room, identifying the ideal length of stay for obtaining the best daily rate, and predicting whether a hotel is likely to receive an unusually high number of special requests. The analysis aims to uncover insights into the significant factors governing hotel bookings and their attributes, facilitating better understanding and decision-making in the hospitality industry."
      ],
      "metadata": {
        "id": "DpeJGUA3kjGy"
      }
    },
    {
      "cell_type": "markdown",
      "source": [
        "#### **Define Your Business Objective?**"
      ],
      "metadata": {
        "id": "PH-0ReGfmX4f"
      }
    },
    {
      "cell_type": "markdown",
      "source": [
        "Analyse the data on Hotel Booking and discover the different factors which affects the booking"
      ],
      "metadata": {
        "id": "PhDvGCAqmjP1"
      }
    },
    {
      "cell_type": "markdown",
      "source": [
        "# **General Guidelines** : -  "
      ],
      "metadata": {
        "id": "mDgbUHAGgjLW"
      }
    },
    {
      "cell_type": "markdown",
      "source": [
        "1.   Well-structured, formatted, and commented code is required.\n",
        "2.   Exception Handling, Production Grade Code & Deployment Ready Code will be a plus. Those students will be awarded some additional credits.\n",
        "     \n",
        "     The additional credits will have advantages over other students during Star Student selection.\n",
        "       \n",
        "             [ Note: - Deployment Ready Code is defined as, the whole .ipynb notebook should be executable in one go\n",
        "                       without a single error logged. ]\n",
        "\n",
        "3.   Each and every logic should have proper comments.\n",
        "4. You may add as many number of charts you want. Make Sure for each and every chart the following format should be answered.\n",
        "        \n",
        "\n",
        "```\n",
        "# Chart visualization code\n",
        "```\n",
        "            \n",
        "\n",
        "*   Why did you pick the specific chart?\n",
        "*   What is/are the insight(s) found from the chart?\n",
        "* Will the gained insights help creating a positive business impact?\n",
        "Are there any insights that lead to negative growth? Justify with specific reason.\n",
        "\n",
        "5. You have to create at least 20 logical & meaningful charts having important insights.\n",
        "\n",
        "\n",
        "[ Hints : - Do the Vizualization in  a structured way while following \"UBM\" Rule.\n",
        "\n",
        "U - Univariate Analysis,\n",
        "\n",
        "B - Bivariate Analysis (Numerical - Categorical, Numerical - Numerical, Categorical - Categorical)\n",
        "\n",
        "M - Multivariate Analysis\n",
        " ]\n",
        "\n",
        "\n",
        "\n"
      ],
      "metadata": {
        "id": "ZrxVaUj-hHfC"
      }
    },
    {
      "cell_type": "markdown",
      "source": [
        "# ***Let's Begin !***"
      ],
      "metadata": {
        "id": "O_i_v8NEhb9l"
      }
    },
    {
      "cell_type": "markdown",
      "source": [
        "## ***1. Know Your Data***"
      ],
      "metadata": {
        "id": "HhfV-JJviCcP"
      }
    },
    {
      "cell_type": "markdown",
      "source": [
        "### Import Libraries"
      ],
      "metadata": {
        "id": "Y3lxredqlCYt"
      }
    },
    {
      "cell_type": "code",
      "source": [
        "# Import Libraries\n",
        "import numpy as np\n",
        "import pandas as pd\n",
        "import plotly.express as px\n",
        "import matplotlib.pyplot as plt\n",
        "import seaborn as sns\n",
        "import ast\n",
        "from datetime import datetime\n",
        "from datetime import date\n",
        "from numpy import math\n",
        "from numpy import loadtxt\n",
        "from matplotlib import rcParams"
      ],
      "metadata": {
        "id": "M8Vqi-pPk-HR"
      },
      "execution_count": null,
      "outputs": []
    },
    {
      "cell_type": "markdown",
      "source": [
        "### Dataset Loading"
      ],
      "metadata": {
        "id": "3RnN4peoiCZX"
      }
    },
    {
      "cell_type": "code",
      "source": [
        "# Load Dataset\n",
        "from google.colab import drive\n",
        "drive.mount('/content/drive')"
      ],
      "metadata": {
        "id": "4CkvbW_SlZ_R"
      },
      "execution_count": null,
      "outputs": []
    },
    {
      "cell_type": "code",
      "source": [
        "#Hotel booking dataset read using pd.read_csv\n",
        "dataset = '/content/Hotel Bookings.csv'\n",
        "df = pd.read_csv(dataset)"
      ],
      "metadata": {
        "id": "_P2rbICIqdx1"
      },
      "execution_count": null,
      "outputs": []
    },
    {
      "cell_type": "markdown",
      "source": [
        "### Dataset First View"
      ],
      "metadata": {
        "id": "x71ZqKXriCWQ"
      }
    },
    {
      "cell_type": "code",
      "source": [
        "# Dataset First Look\n",
        "df.head(5)"
      ],
      "metadata": {
        "id": "LWNFOSvLl09H"
      },
      "execution_count": null,
      "outputs": []
    },
    {
      "cell_type": "code",
      "source": [
        "df.tail(5)"
      ],
      "metadata": {
        "id": "uKzwKaELqx93"
      },
      "execution_count": null,
      "outputs": []
    },
    {
      "cell_type": "markdown",
      "source": [
        "### Dataset Rows & Columns count"
      ],
      "metadata": {
        "id": "7hBIi_osiCS2"
      }
    },
    {
      "cell_type": "code",
      "source": [
        "# Dataset Rows & Columns count\n",
        "df.shape"
      ],
      "metadata": {
        "id": "Kllu7SJgmLij"
      },
      "execution_count": null,
      "outputs": []
    },
    {
      "cell_type": "markdown",
      "source": [
        "### Dataset Information"
      ],
      "metadata": {
        "id": "JlHwYmJAmNHm"
      }
    },
    {
      "cell_type": "code",
      "source": [
        "# Dataset Info\n",
        "df.info()"
      ],
      "metadata": {
        "id": "e9hRXRi6meOf"
      },
      "execution_count": null,
      "outputs": []
    },
    {
      "cell_type": "markdown",
      "source": [
        "#### Duplicate Values"
      ],
      "metadata": {
        "id": "35m5QtbWiB9F"
      }
    },
    {
      "cell_type": "code",
      "source": [
        "# Dataset Duplicate Value Count, to remove these values, we use function drop.duplicate to delete duplicate rows.\n",
        "df.drop_duplicates(inplace = True)\n",
        "\n",
        "# total rows = 119390, Duplicate Rows = 31994\n",
        "uni_num_of_rows = df.shape[0]\n",
        "\n",
        "uni_num_of_rows # now unique rows = 87396"
      ],
      "metadata": {
        "id": "1sLdpKYkmox0"
      },
      "execution_count": null,
      "outputs": []
    },
    {
      "cell_type": "code",
      "source": [
        "df.reset_index()"
      ],
      "metadata": {
        "id": "LTt-i5QcsJzX"
      },
      "execution_count": null,
      "outputs": []
    },
    {
      "cell_type": "markdown",
      "source": [
        "#### Missing Values/Null Values"
      ],
      "metadata": {
        "id": "PoPl-ycgm1ru"
      }
    },
    {
      "cell_type": "code",
      "source": [
        "# Missing Values/Null Values Count\n",
        "null_value = df.isnull()\n",
        "df.fillna(np.nan, inplace = True)\n",
        "\n",
        "df # we replace all the null value as NaN."
      ],
      "metadata": {
        "id": "GgHWkxvamxVg"
      },
      "execution_count": null,
      "outputs": []
    },
    {
      "cell_type": "code",
      "source": [
        "# Visualizing the missing values\n",
        "miss_value = df.isnull().sum().sort_values(ascending = False)\n",
        "miss_value # We have check the count of null value in individual columns"
      ],
      "metadata": {
        "id": "3q5wnI3om9sJ"
      },
      "execution_count": null,
      "outputs": []
    },
    {
      "cell_type": "markdown",
      "source": [
        "### What did you know about your dataset?"
      ],
      "metadata": {
        "id": "H0kj-8xxnORC"
      }
    },
    {
      "cell_type": "markdown",
      "source": [
        "\n",
        "This data set contains a single file which compares various booking information between two hotels: a city hotel and a resort hotel.Includes information such as when the booking was made, length of stay, the number of adults, children, and/or babies, and the number of available parking spaces, among other things. The dataset contains a total of 119390 rows and 32 columns.Dataset Contains duplicated items i.e 31944 which is removed later .In this dataset we find data types of every columns i.e (Int, float ,string) and observe that some columns data types is not accurate and remove later .We find unique value of every columns it means what actual values in every columns\n",
        "\n"
      ],
      "metadata": {
        "id": "gfoNAAC-nUe_"
      }
    },
    {
      "cell_type": "markdown",
      "source": [
        "## ***2. Understanding Your Variables***"
      ],
      "metadata": {
        "id": "nA9Y7ga8ng1Z"
      }
    },
    {
      "cell_type": "code",
      "source": [
        "# Dataset Columns\n",
        "df_column = df.columns\n",
        "df_column"
      ],
      "metadata": {
        "id": "j7xfkqrt5Ag5"
      },
      "execution_count": null,
      "outputs": []
    },
    {
      "cell_type": "code",
      "source": [
        "# Dataset Describe\n",
        "df.describe()"
      ],
      "metadata": {
        "id": "DnOaZdaE5Q5t"
      },
      "execution_count": null,
      "outputs": []
    },
    {
      "cell_type": "markdown",
      "source": [
        "### Variables Description"
      ],
      "metadata": {
        "id": "PBTbrJXOngz2"
      }
    },
    {
      "cell_type": "markdown",
      "source": [
        "## Description of individual Variable\n",
        "\n",
        "\n",
        "\n",
        "  \n",
        "**The columns and the data it represents are listed below:**\n",
        "\n",
        "1. **hotel :** Name of the hotel (Resort Hotel or City Hotel)\n",
        "\n",
        "2. **is_canceled :** If the booking was canceled (1) or not (0)\n",
        "\n",
        "3. **lead_time:** Number of days before the actual arrival of the guests\n",
        "\n",
        "4. **arrival_date_year :** Year of arrival date\n",
        "\n",
        "5. **arrival_date_month :** Month of month arrival date\n",
        "\n",
        "6. **arrival_date_week_number :** Week number of year for arrival date\n",
        "\n",
        "7. **arrival_date_day_of_month :** Day of arrival date\n",
        "\n",
        "8. **stays_in_weekend_nights :** Number of weekend nights (Saturday or Sunday) spent at the hotel by the guests.\n",
        "\n",
        "9. **stays_in_week_nights :** Number of weeknights (Monday to Friday) spent at the hotel by the guests.\n",
        "\n",
        "10. **adults :** Number of adults among guests\n",
        "\n",
        "11. **children :** Number of children among guests\n",
        "\n",
        "12. **babies :** Number of babies among guests\n",
        "\n",
        "13. **meal :** Type of meal booked\n",
        "\n",
        "14. **country :** Country of guests\n",
        "\n",
        "15. **market_segment :** Designation of market segment\n",
        "\n",
        "16. **distribution_channel :** Name of booking distribution channel\n",
        "\n",
        "17. **is_repeated_guest :** If the booking was from a repeated guest (1) or not (0)\n",
        "\n",
        "18. **previous_cancellations :** Number of previous bookings that were cancelled by the customer prior to the current booking\n",
        "\n",
        "19. **previous_bookings_not_canceled :** Number of previous bookings not cancelled by the customer prior to the current booking\n",
        "\n",
        "20. **reserved_room_type :** Code of room type reserved\n",
        "\n",
        "21. **assigned_room_type :** Code of room type assigned\n",
        "\n",
        "22. **booking_changes :** Number of changes/amendments made to the booking\n",
        "\n",
        "23. **deposit_type :** Type of the deposit made by the guest\n",
        "\n",
        "24. **agent :** ID of travel agent who made the booking\n",
        "\n",
        "25. **company :** ID of the company that made the booking\n",
        "\n",
        "26. **days_in_waiting_list :** Number of days the booking was in the waiting list\n",
        "\n",
        "27. **customer_type :** Type of customer, assuming one of four categories\n",
        "\n",
        "28. **adr :** Average Daily Rate, as defined by dividing the sum of all lodging transactions by the total number of staying nights\n",
        "\n",
        "29. **required_car_parking_spaces :** Number of car parking spaces required by the customer\n",
        "\n",
        "30. **total_of_special_requests :** Number of special requests made by the customer\n",
        "\n",
        "31. **reservation_status :** Reservation status (Canceled, Check-Out or No-Show)\n",
        "\n",
        "32. **reservation_status_date :** Date at which the last reservation status was updated"
      ],
      "metadata": {
        "id": "aJV4KIxSnxay"
      }
    },
    {
      "cell_type": "markdown",
      "source": [
        "### Check Unique Values for each variable."
      ],
      "metadata": {
        "id": "u3PMJOP6ngxN"
      }
    },
    {
      "cell_type": "code",
      "source": [
        "# Check Unique Values for each variable.\n",
        "print(df.apply(lambda col: col.unique()))"
      ],
      "metadata": {
        "id": "zms12Yq5n-jE"
      },
      "execution_count": null,
      "outputs": []
    },
    {
      "cell_type": "markdown",
      "source": [
        "## 3. ***Data Wrangling***"
      ],
      "metadata": {
        "id": "dauF4eBmngu3"
      }
    },
    {
      "cell_type": "markdown",
      "source": [
        "### Data Wrangling Code"
      ],
      "metadata": {
        "id": "bKJF3rekwFvQ"
      }
    },
    {
      "cell_type": "markdown",
      "source": [
        "# Data Cleaning"
      ],
      "metadata": {
        "id": "eBv1Ela9xhgZ"
      }
    },
    {
      "cell_type": "code",
      "source": [
        "#to fill the NAN value in the column, let's check which column has null value, already stored the same\n",
        "miss_value[:4]"
      ],
      "metadata": {
        "id": "wk-9a2fpoLcV"
      },
      "execution_count": null,
      "outputs": []
    },
    {
      "cell_type": "code",
      "source": [
        "#let's check, what is the percentage of null value in each column, starting from the company\n",
        "percengtage_company_null = miss_value[0] / uni_num_of_rows*100\n",
        "percengtage_company_null"
      ],
      "metadata": {
        "id": "MjU5Kngix8rt"
      },
      "execution_count": null,
      "outputs": []
    },
    {
      "cell_type": "code",
      "source": [
        "#It is better to drop the column \"company\" altogether since the number if missing value is extremely high as compared to the number of rows\n",
        "df.drop(['company'], axis =1 , inplace= True)"
      ],
      "metadata": {
        "id": "H2lttMm1zTNY"
      },
      "execution_count": null,
      "outputs": []
    },
    {
      "cell_type": "code",
      "source": [
        "#now let's check for agent\n",
        "percentage_agent_null = miss_value[1] / uni_num_of_rows*100\n",
        "percentage_agent_null"
      ],
      "metadata": {
        "id": "gJpfi_QjzxNv"
      },
      "execution_count": null,
      "outputs": []
    },
    {
      "cell_type": "code",
      "source": [
        "# As we have seen, there is minimul null values in agent, Lets fill these value by taking mode of the all values\n",
        "\n",
        "df['agent'].fillna(value = 0 , inplace = True)\n",
        "df['agent'].isnull().sum() #we re-check that column has no null value"
      ],
      "metadata": {
        "id": "OC6UXojp0DzZ"
      },
      "execution_count": null,
      "outputs": []
    },
    {
      "cell_type": "code",
      "source": [
        "#check the percentage null value in country column\n",
        "\n",
        "percentage_country_null = miss_value[2] / uni_num_of_rows *100\n",
        "percentage_country_null"
      ],
      "metadata": {
        "id": "WZn-gRRf0hPO"
      },
      "execution_count": null,
      "outputs": []
    },
    {
      "cell_type": "code",
      "source": [
        "# We have less null vlues in country col, so we will replace null from 'other' as country name.\n",
        "\n",
        "df['country'].fillna(value = 'others', inplace = True)\n",
        "df['country'].isnull().sum() # we re-check that column has no null value"
      ],
      "metadata": {
        "id": "qVWASU8S01k0"
      },
      "execution_count": null,
      "outputs": []
    },
    {
      "cell_type": "code",
      "source": [
        "#Check the percentage null value in children col\n",
        "\n",
        "percentage_children_null = miss_value[3] / uni_num_of_rows*100\n",
        "percentage_children_null"
      ],
      "metadata": {
        "id": "jLXIj2lQ1Dif"
      },
      "execution_count": null,
      "outputs": []
    },
    {
      "cell_type": "code",
      "source": [
        "# We have less null vlues in country col, so we will replace null from 0 as country name.\n",
        "\n",
        "df['children'].fillna(value = 0, inplace = True)\n",
        "df['children'].isnull().sum() # we re-check that column has no null value"
      ],
      "metadata": {
        "id": "p_MGitm_1ISZ"
      },
      "execution_count": null,
      "outputs": []
    },
    {
      "cell_type": "code",
      "source": [
        "#let's check whether database having any other null value\n",
        "\n",
        "df.isnull().sum() # As we have seen, no column has any null value"
      ],
      "metadata": {
        "id": "H_dB9_9A1QmG"
      },
      "execution_count": null,
      "outputs": []
    },
    {
      "cell_type": "markdown",
      "source": [
        "# Change in datatype for required columns"
      ],
      "metadata": {
        "id": "1bSl9NuS1mcZ"
      }
    },
    {
      "cell_type": "code",
      "source": [
        "#showing the info of the data to check datatype\n",
        "df.info()"
      ],
      "metadata": {
        "id": "6-Vz0dgY1mAf"
      },
      "execution_count": null,
      "outputs": []
    },
    {
      "cell_type": "code",
      "source": [
        "# We have seen that childer & agent column as datatype as float whereas it contains only int value, lets change datatype as 'int64'\n",
        "df[['children', 'agent']] = df[['children', 'agent']].astype('int64')"
      ],
      "metadata": {
        "id": "IFhK-k6J158m"
      },
      "execution_count": null,
      "outputs": []
    },
    {
      "cell_type": "markdown",
      "source": [
        "# Addition of new column as per requirement"
      ],
      "metadata": {
        "id": "BASp70572GMq"
      }
    },
    {
      "cell_type": "code",
      "source": [
        "#total stay in nights\n",
        "df['total_stay_in_nights'] = df ['stays_in_week_nights'] + df ['stays_in_weekend_nights']\n",
        "df['total_stay_in_nights'] # We have created a col for total stays in nights by adding week night & weekend nights stay col."
      ],
      "metadata": {
        "id": "bf3aKA7w2kVQ"
      },
      "execution_count": null,
      "outputs": []
    },
    {
      "cell_type": "code",
      "source": [
        "# We have created a col for revenue using total stay * adr\n",
        "df['revenue'] = df['total_stay_in_nights'] *df['adr']\n",
        "df['revenue']"
      ],
      "metadata": {
        "id": "bH4EGpC22vDd"
      },
      "execution_count": null,
      "outputs": []
    },
    {
      "cell_type": "code",
      "source": [
        "# Also, for information, we will add a column with total guest coming for each booking\n",
        "df['total_guest'] = df['adults'] + df['children'] + df['babies']\n",
        "df['total_guest'].sum()"
      ],
      "metadata": {
        "id": "Pah0xhrM22pZ"
      },
      "execution_count": null,
      "outputs": []
    },
    {
      "cell_type": "code",
      "source": [
        "# for understanding, from col 'is_canceled': we will replace the value from (0,1) to not_canceled, is canceled.\n",
        "\n",
        "df['is_canceled'] = df['is_canceled'].replace([0,1], ['not canceled', 'is canceled'])\n",
        "df['is_canceled']"
      ],
      "metadata": {
        "id": "uu5OrM4y3DcY"
      },
      "execution_count": null,
      "outputs": []
    },
    {
      "cell_type": "code",
      "source": [
        "#Same for 'is_repeated_guest' col\n",
        "df['is_repeated_guest'] = df['is_repeated_guest'].replace([0,1], ['not repeated', 'repeated'])\n",
        "df['is_repeated_guest']"
      ],
      "metadata": {
        "id": "CtUDQkao3HS9"
      },
      "execution_count": null,
      "outputs": []
    },
    {
      "cell_type": "code",
      "source": [
        "#Now, we will check overall revenue hotel wise\n",
        "hotel_wise_total_revenue = df.groupby('hotel')['revenue'].sum()\n",
        "hotel_wise_total_revenue"
      ],
      "metadata": {
        "id": "0zvo3eou3S-v"
      },
      "execution_count": null,
      "outputs": []
    },
    {
      "cell_type": "code",
      "source": [
        "df[['hotel', \"revenue\"]]"
      ],
      "metadata": {
        "id": "YvFNIaD_3XwT"
      },
      "execution_count": null,
      "outputs": []
    },
    {
      "cell_type": "markdown",
      "source": [
        "### What all manipulations have you done and insights you found?"
      ],
      "metadata": {
        "id": "MSa1f5Uengrz"
      }
    },
    {
      "cell_type": "markdown",
      "source": [
        "**We have done few manipulations in the Data.**\n",
        "\n",
        "**----Addition of columns----**\n",
        "\n",
        "We have seen that there are few columns required in Data to analysis purpose which can be evaluated from the given columns.\n",
        "\n",
        "a) **Total Guests:** This columns will help us to evaluate the volumes of total guest and revenue as well. We get this value by adding total no. of Adults, Children & babies.\n",
        "\n",
        "b) **Revenue:** We find revenue by multiplying adr & total guest. This column will use to analyse the profit and growth of each hotel.\n",
        "\n",
        "\n",
        "\n",
        "**----Delete of columns----**\n",
        "\n",
        "a)**company:** As we have seen that this columns has almost Null data. so we have delete this column as this will not make any impact in the analysis.\n",
        "\n",
        "\n",
        "\n",
        "**----Replace of Values in columns----**\n",
        "\n",
        "a)**is_canceled, is_not_canceled & is_repeated_guest:** We have seen, that these columns contains only 0,1 as values which represent the status of booing cancellation. We replace these values (0,1) from 'Canceled' & 'Not canceled. In the same way for column 'is_repeated_guest', we replace 0,1 from 'Repeated' & 'Not repeated'. Now this values will help to make better understanding while visulization.\n",
        "\n",
        "\n",
        "**----Changes in data type of values in columns----**\n",
        "\n",
        "a)**Agent & Children:** We checked that these columns contains float values, which is not making any sense in data as this values repreasent the count of guest & ID of agent. So we have changed the data type of these columns from 'float' to 'Integer'.\n",
        "\n",
        "\n",
        "**----Removed is_null values & duplicate entries----**\n",
        "\n",
        "a)Before visualize any data from the data set we have to do data wrangling.\n",
        "For that, we have checked the null value in all the columns. After checking, when we are getting a column which has more number of null values, dropped that column by using the 'drop' method. In this way, we are dropped the 'company' column. When we are find minimal number of null values, filling thse null values with necesary values as per requirement by using .fillna().\n",
        "\n",
        "b) In the same, we have checked if there is any duplicacy in data & we found that there are few rows have duplicate data. So we have removed those row from data set by using .drop_duplicates() method.\n",
        "\n",
        "\n",
        "\n",
        "\n",
        "\n",
        "\n",
        "**In this way, we have removed unneccesary data & make our data clean and ready to analyse.**\n",
        "\n"
      ],
      "metadata": {
        "id": "LbyXE7I1olp8"
      }
    },
    {
      "cell_type": "markdown",
      "source": [
        "## ***4. Data Vizualization, Storytelling & Experimenting with charts : Understand the relationships between variables***"
      ],
      "metadata": {
        "id": "GF8Ens_Soomf"
      }
    },
    {
      "cell_type": "markdown",
      "source": [
        "#### Chart - 1"
      ],
      "metadata": {
        "id": "0wOQAZs5pc--"
      }
    },
    {
      "cell_type": "markdown",
      "metadata": {
        "id": "gYo0FPJU-BbA"
      },
      "source": [
        "#### Chart - 1"
      ]
    },
    {
      "cell_type": "code",
      "execution_count": null,
      "metadata": {
        "id": "DEhBEwyngXcE"
      },
      "outputs": [],
      "source": [
        "# Let's create a function which will give us bar chart of data respective with a col.\n",
        "def get_count_from_column_bar(df, column_label):\n",
        "  df_grpd = df[column_label].value_counts()\n",
        "  df_grpd = pd.DataFrame({'index':df_grpd.index, 'count':df_grpd.values})\n",
        "  return df_grpd\n",
        "\n",
        "\n",
        "def plot_bar_chart_from_column(df, column_label, t1):\n",
        "  df_grpd = get_count_from_column(df, column_label)\n",
        "  fig, ax = plt.subplots(figsize=(14, 6))\n",
        "  c= ['g','r','b','c','y']\n",
        "  ax.bar(df_grpd['index'], df_grpd['count'], width = 0.4, align = 'edge', edgecolor = 'black', linewidth = 4, color = c, linestyle = ':', alpha = 0.5)\n",
        "  plt.title(t1, bbox={'facecolor':'0.8', 'pad':3})\n",
        "  plt.legend()\n",
        "  plt.ylabel('Count')\n",
        "  plt.xticks(rotation = 15) # use to format the lable of x-axis\n",
        "  plt.xlabel(column_label)\n",
        "  plt.show()"
      ]
    },
    {
      "cell_type": "code",
      "execution_count": null,
      "metadata": {
        "id": "z7yFtjcK-BbM"
      },
      "outputs": [],
      "source": [
        "# Chart - 1 visualization code\n",
        "\n",
        "def get_count_from_column(df, column_label):\n",
        "  df_grpd = df[column_label].value_counts()\n",
        "  df_grpd = pd.DataFrame({'index':df_grpd.index, 'count':df_grpd.values})\n",
        "  return df_grpd\n",
        "\n",
        "# plot a pie chart from grouped data\n",
        "def plot_pie_chart_from_column(df, column_label, t1, exp):\n",
        "  df_grpd = get_count_from_column(df, column_label)\n",
        "  fig, ax = plt.subplots(figsize=(14,9))\n",
        "  ax.pie(df_grpd.loc[:, 'count'], labels=df_grpd.loc[:, 'index'], autopct='%1.2f%%',startangle=90,shadow=True, labeldistance = 1, explode = exp)\n",
        "  plt.title(t1, bbox={'facecolor':'0.8', 'pad':3})\n",
        "  ax.axis('equal')\n",
        "  plt.legend()\n",
        "  plt.show()"
      ]
    },
    {
      "cell_type": "code",
      "execution_count": null,
      "metadata": {
        "id": "Dih_-oXolRn_"
      },
      "outputs": [],
      "source": [
        "exp1 = [0.05,0.05]\n",
        "plot_pie_chart_from_column(df, 'hotel', 'Booking percentage of Hotel by Name', exp1)\n"
      ]
    },
    {
      "cell_type": "markdown",
      "metadata": {
        "id": "cmcKsCjK-BbN"
      },
      "source": [
        "##### 1. Why did you pick the specific chart?"
      ]
    },
    {
      "cell_type": "markdown",
      "source": [
        "\n",
        "\n",
        "```\n",
        "# This is formatted as code\n",
        "```\n",
        "\n",
        "***To present the data that in which hotel more booking have been done.***"
      ],
      "metadata": {
        "id": "mN7x9Ixtf1rU"
      }
    },
    {
      "cell_type": "markdown",
      "metadata": {
        "id": "66gHV6CG-BbO"
      },
      "source": [
        "##### 2. What is/are the insight(s) found from the chart?"
      ]
    },
    {
      "cell_type": "markdown",
      "metadata": {
        "id": "-L18O203-BbO"
      },
      "source": [
        "***Here, we found that the booking number is Higher in City Hotel which is 61.12% than Resort Hotel which is 38.87%. Hence we can say that City hotel has more consumption***"
      ]
    },
    {
      "cell_type": "markdown",
      "metadata": {
        "id": "aNUN9_FX-BbO"
      },
      "source": [
        "##### 3. Will the gained insights help creating a positive business impact?\n",
        "Are there any insights that lead to negative growth? Justify with specific reason."
      ]
    },
    {
      "cell_type": "markdown",
      "metadata": {
        "id": "j29qdlTZ-BbP"
      },
      "source": [
        "**Yes, for both Hotels, this data making some positive business impact : -**\n",
        "\n",
        "**City Hotel :- Provided more services to attract more guest to increase more revenue.**\n",
        "\n",
        "**Resort Hotel :- Find solution to attract guest and find what city hotel did to attract guest.**"
      ]
    },
    {
      "cell_type": "markdown",
      "metadata": {
        "id": "DYlJam9l-BbP"
      },
      "source": [
        "#### Chart - 2"
      ]
    },
    {
      "cell_type": "code",
      "execution_count": null,
      "metadata": {
        "id": "evWvEyOa-BbP"
      },
      "outputs": [],
      "source": [
        "# Chart - 2 visualization code\n",
        "exp4 = [0,0.2]\n",
        "plot_pie_chart_from_column(df, 'is_canceled', 'Cancellation volume of Hotel', exp4)"
      ]
    },
    {
      "cell_type": "markdown",
      "metadata": {
        "id": "NABZB-ey-BbP"
      },
      "source": [
        "##### 1. Why did you pick the specific chart?"
      ]
    },
    {
      "cell_type": "markdown",
      "metadata": {
        "id": "HJaZIjiw-BbP"
      },
      "source": [
        "**In this chart, we presented the cancellation rate of the hotels booking**"
      ]
    },
    {
      "cell_type": "markdown",
      "metadata": {
        "id": "8fsF8_ow-BbQ"
      },
      "source": [
        "##### 2. What is/are the insight(s) found from the chart?"
      ]
    },
    {
      "cell_type": "markdown",
      "metadata": {
        "id": "Xq5uoYJS-BbQ"
      },
      "source": [
        "**Here, we found that overall more than 25% of booking got cancelled**"
      ]
    },
    {
      "cell_type": "markdown",
      "metadata": {
        "id": "RjOvA2z1-BbQ"
      },
      "source": [
        "##### 3. Will the gained insights help creating a positive business impact?\n",
        "Are there any insights that lead to negative growth? Justify with specific reason."
      ]
    },
    {
      "cell_type": "markdown",
      "metadata": {
        "id": "eQun3bAFowCk"
      },
      "source": [
        "**Here, we can see, that more than 27% booking getting cancelled.**\n",
        "\n",
        "\n",
        "**Solution: We can check the reason of cancellation of a booking & need to get this sort on business level**"
      ]
    },
    {
      "cell_type": "markdown",
      "metadata": {
        "id": "Lw3F8cNT-BbQ"
      },
      "source": [
        "Answer Here"
      ]
    },
    {
      "cell_type": "markdown",
      "metadata": {
        "id": "UQ3tmhp2-BbR"
      },
      "source": [
        "#### Chart - 3"
      ]
    },
    {
      "cell_type": "code",
      "execution_count": null,
      "metadata": {
        "id": "walsukHQ-BbR"
      },
      "outputs": [],
      "source": [
        "# Chart - 3 visualization code\n",
        "plot_bar_chart_from_column(df, 'distribution_channel', 'Distibution Channel Volume')"
      ]
    },
    {
      "cell_type": "markdown",
      "metadata": {
        "id": "ADu5iaHN-BbR"
      },
      "source": [
        "##### 1. Why did you pick the specific chart?"
      ]
    },
    {
      "cell_type": "markdown",
      "metadata": {
        "id": "JBQrhWbm-BbR"
      },
      "source": [
        "**The following chart represent maximum volume of booking done through which channel to represnt the numbers in descending order we chose bar graph**"
      ]
    },
    {
      "cell_type": "markdown",
      "metadata": {
        "id": "6dvF8rI7-BbR"
      },
      "source": [
        "##### 2. What is/are the insight(s) found from the chart?"
      ]
    },
    {
      "cell_type": "markdown",
      "metadata": {
        "id": "4AAsJhYo-BbS"
      },
      "source": [
        "**As clearly seen TA/TO(Tour of Agent & Tour of operator) is highest, recommending to continue booking through TA/TO**"
      ]
    },
    {
      "cell_type": "markdown",
      "metadata": {
        "id": "f2PwVkng-BbS"
      },
      "source": [
        "##### 3. Will the gained insights help creating a positive business impact?\n",
        "Are there any insights that lead to negative growth? Justify with specific reason."
      ]
    },
    {
      "cell_type": "markdown",
      "metadata": {
        "id": "mH13q6m--BbS"
      },
      "source": [
        "**Yes this shows positive business impact.**\n",
        "\n",
        "**Higher the  number of TA/TO  will help to increase the revenue generation of Hotel.**"
      ]
    },
    {
      "cell_type": "markdown",
      "metadata": {
        "id": "_ikp-Op4-BbS"
      },
      "source": [
        "#### Chart - 4"
      ]
    },
    {
      "cell_type": "code",
      "execution_count": null,
      "metadata": {
        "id": "xhtHIfX2-BbT"
      },
      "outputs": [],
      "source": [
        "# Chart - 4 visualization code\n",
        "exp2 = [0.2, 0,0,0,0,0,0,0,0,0,0,0.1]\n",
        "plot_pie_chart_from_column(df, 'arrival_date_month', 'Month-wise booking', exp2)"
      ]
    },
    {
      "cell_type": "markdown",
      "metadata": {
        "id": "kPsarClr-BbT"
      },
      "source": [
        "##### 1. Why did you pick the specific chart?"
      ]
    },
    {
      "cell_type": "markdown",
      "metadata": {
        "id": "Ov2kETyT-BbT"
      },
      "source": [
        "**To show the percentage share of booking in each month,on overall level**"
      ]
    },
    {
      "cell_type": "markdown",
      "metadata": {
        "id": "6wBTnIrt-BbT"
      },
      "source": [
        "##### 2. What is/are the insight(s) found from the chart?"
      ]
    },
    {
      "cell_type": "markdown",
      "metadata": {
        "id": "wrGd5tOW-BbT"
      },
      "source": [
        "**The above percentage shows month May, July and Aug are the highest booking months due to holiday season. Recommending aggressive advertisement to lure more and more customers.**"
      ]
    },
    {
      "cell_type": "markdown",
      "metadata": {
        "id": "mmS01CmI-BbU"
      },
      "source": [
        "##### 3. Will the gained insights help creating a positive business impact?\n",
        "Are there any insights that lead to negative growth? Justify with specific reason."
      ]
    },
    {
      "cell_type": "markdown",
      "metadata": {
        "id": "SWAed7LW-BbU"
      },
      "source": [
        "**Yes, with increased volume of visitors will help hotel to manage revenue in down time, will also help employee satisfaction and retention.**"
      ]
    },
    {
      "cell_type": "markdown",
      "metadata": {
        "id": "At8Cvg7r-BbU"
      },
      "source": [
        "#### Chart - 5"
      ]
    },
    {
      "cell_type": "code",
      "execution_count": null,
      "metadata": {
        "id": "JCwkSGxx-BbU"
      },
      "outputs": [],
      "source": [
        "# Chart - 5 visualization code\n",
        "exp3 = [0,0.3]\n",
        "plot_pie_chart_from_column(df, 'is_repeated_guest', 'Guest repeating status', exp3)\n"
      ]
    },
    {
      "cell_type": "markdown",
      "metadata": {
        "id": "6TjTNQd8-BbU"
      },
      "source": [
        "##### 1. Why did you pick the specific chart?"
      ]
    },
    {
      "cell_type": "markdown",
      "metadata": {
        "id": "D4KS3JqG-BbV"
      },
      "source": [
        "**To show the percentage share of repeated & non-repeated guests.**"
      ]
    },
    {
      "cell_type": "markdown",
      "metadata": {
        "id": "H8InzWnR-BbV"
      },
      "source": [
        "##### 2. What is/are the insight(s) found from the chart?"
      ]
    },
    {
      "cell_type": "markdown",
      "metadata": {
        "id": "iddzzuny-BbV"
      },
      "source": [
        "**Here, we can see that the number of repeated guests is very less as compared to overall guests**"
      ]
    },
    {
      "cell_type": "markdown",
      "metadata": {
        "id": "NgnKZPbs-BbV"
      },
      "source": [
        "##### 3. Will the gained insights help creating a positive business impact?\n",
        "Are there any insights that lead to negative growth? Justify with specific reason."
      ]
    },
    {
      "cell_type": "markdown",
      "metadata": {
        "id": "PHgdZ81z-BbV"
      },
      "source": [
        "**We can give alluring offers to non-repetitive customers during Off seasons to enhance revenue**"
      ]
    },
    {
      "cell_type": "markdown",
      "metadata": {
        "id": "a4YK_o24-BbV"
      },
      "source": [
        "#### Chart - 6"
      ]
    },
    {
      "cell_type": "code",
      "execution_count": null,
      "metadata": {
        "id": "Ds8kO-92-BbW"
      },
      "outputs": [],
      "source": [
        "# Chart - 6 visualization code\n",
        "plot_bar_chart_from_column(df, 'assigned_room_type', 'Assigment of room by type')"
      ]
    },
    {
      "cell_type": "markdown",
      "metadata": {
        "id": "wM8Js2WM-BbW"
      },
      "source": [
        "##### 1. Why did you pick the specific chart?"
      ]
    },
    {
      "cell_type": "markdown",
      "metadata": {
        "id": "Y9z8I1Eu-BbW"
      },
      "source": [
        "**To show distribution by volume, which room is alotted.**"
      ]
    },
    {
      "cell_type": "markdown",
      "metadata": {
        "id": "-yk3hAPk-BbX"
      },
      "source": [
        "##### 2. What is/are the insight(s) found from the chart?"
      ]
    },
    {
      "cell_type": "markdown",
      "metadata": {
        "id": "B2tf5g4U-BbX"
      },
      "source": [
        "**This chart shows room type 'A' is most prefered by guest**."
      ]
    },
    {
      "cell_type": "markdown",
      "metadata": {
        "id": "yyoE7SyV-BbX"
      },
      "source": [
        "##### 3. Will the gained insights help creating a positive business impact?\n",
        "Are there any insights that lead to negative growth? Justify with specific reason."
      ]
    },
    {
      "cell_type": "markdown",
      "metadata": {
        "id": "7bSkpNKS-BbX"
      },
      "source": [
        "**Yes, Positive impact because 'A','D','E' is more prefered by guest due to better services offered in room type.**"
      ]
    },
    {
      "cell_type": "markdown",
      "metadata": {
        "id": "gDNtMxrG-BbY"
      },
      "source": [
        "#### Chart - 7"
      ]
    },
    {
      "cell_type": "code",
      "execution_count": null,
      "metadata": {
        "id": "j2B7DPKfKLXl"
      },
      "outputs": [],
      "source": [
        "guest_month_wise = pd.DataFrame(df[['arrival_date_month', 'total_guest']])\n",
        "guest_month_wise_df = guest_month_wise.groupby(['arrival_date_month'])['total_guest'].sum()\n",
        "guest_month_wise_df.sort_values(ascending = False, inplace = True)"
      ]
    },
    {
      "cell_type": "code",
      "source": [
        "df['total_guest']"
      ],
      "metadata": {
        "id": "z611gvaG8mIf"
      },
      "execution_count": null,
      "outputs": []
    },
    {
      "cell_type": "code",
      "source": [
        "market_segment_df = pd.DataFrame(df['market_segment'])\n",
        "market_segment_df_data = market_segment_df.groupby('market_segment')['market_segment'].count()\n",
        "market_segment_df_data.sort_values(ascending = False, inplace = True)\n",
        "plt.figure(figsize=(15,6))\n",
        "y = np.array([4,5,6])\n",
        "market_segment_df_data.plot(kind = 'bar', color=['g', 'r', 'c', 'b', 'y', 'black', 'brown'], fontsize = 20,legend='True')\n"
      ],
      "metadata": {
        "id": "SxEruECn8TwO"
      },
      "execution_count": null,
      "outputs": []
    },
    {
      "cell_type": "markdown",
      "metadata": {
        "id": "tOB2kuHh-BbZ"
      },
      "source": [
        "##### 1. Why did you pick the specific chart?"
      ]
    },
    {
      "cell_type": "markdown",
      "metadata": {
        "id": "2RL3uIl5-BbZ"
      },
      "source": [
        "**In this chart, we have seen market segment by which hotel has booked**"
      ]
    },
    {
      "cell_type": "markdown",
      "metadata": {
        "id": "gk9zPXdv-BbZ"
      },
      "source": [
        "##### 2. What is/are the insight(s) found from the chart?"
      ]
    },
    {
      "cell_type": "markdown",
      "metadata": {
        "id": "31U6L9D7-BbZ"
      },
      "source": [
        "**Online TA has been used most frequently to book hotel by the guest.**"
      ]
    },
    {
      "cell_type": "markdown",
      "metadata": {
        "id": "t7JiMIMl-Bba"
      },
      "source": [
        "##### 3. Will the gained insights help creating a positive business impact?\n",
        "Are there any insights that lead to negative growth? Justify with specific reason."
      ]
    },
    {
      "cell_type": "markdown",
      "metadata": {
        "id": "NLWnIZuY-Bba"
      },
      "source": [
        "**Yes, it is creating positive business impact that guests are using Online TA market segment as most prefered to book hotels.**"
      ]
    },
    {
      "cell_type": "markdown",
      "metadata": {
        "id": "AoSt3ma_-Bbb"
      },
      "source": [
        "#### Chart - 8"
      ]
    },
    {
      "cell_type": "code",
      "execution_count": null,
      "metadata": {
        "id": "B9Se0kBu-Bbb"
      },
      "outputs": [],
      "source": [
        "# Chart - 8 visualization code\n",
        "guest_country_wise = pd.DataFrame(df[['country', 'total_guest']])\n",
        "guest_country_wise_df = guest_country_wise.groupby(['country'])['total_guest'].sum()\n",
        "guest_country_wise_df.sort_values(ascending = False, inplace = True)\n",
        "top_10_country_by_guest = guest_country_wise_df.head(10)"
      ]
    },
    {
      "cell_type": "code",
      "execution_count": null,
      "metadata": {
        "id": "JsXI-fp_eLew"
      },
      "outputs": [],
      "source": [
        "# Assuming 'top_10_country_by_guest' is a Pandas Series or DataFrame containing the top 10 countries and their guest counts\n",
        "\n",
        "plt.figure(figsize=(12, 6))\n",
        "sns.barplot(x=top_10_country_by_guest.index, y=top_10_country_by_guest)\n",
        "plt.title('Top 10 Countries by Guest')\n",
        "plt.xlabel('Country Code')\n",
        "plt.ylabel('Number of Guests')\n",
        "\n",
        "# Adding country code explanations\n",
        "country_codes = {\n",
        "    'PRT': 'Portugal',\n",
        "    'GBR': 'Great Britain & Northern Ireland',\n",
        "    'FRA': 'France',\n",
        "    'ESP': 'Spain',\n",
        "    'DEU': 'Germany',\n",
        "    'ITA': 'Italy',\n",
        "    'IRL': 'Ireland',\n",
        "    'BRA': 'Brazil',\n",
        "    'BEL': 'Belgium',\n",
        "    'NLD': 'Netherlands'\n",
        "}\n",
        "\n",
        "plt.xticks(ticks=range(len(top_10_country_by_guest)), labels=[country_codes[code] for code in top_10_country_by_guest.index])\n",
        "\n",
        "plt.show()\n"
      ]
    },
    {
      "cell_type": "markdown",
      "metadata": {
        "id": "ROwMPtFk-Bbb"
      },
      "source": [
        "##### 1. Why did you pick the specific chart?"
      ]
    },
    {
      "cell_type": "markdown",
      "metadata": {
        "id": "bTe8l-cV-Bbc"
      },
      "source": [
        "**We have seen that mostly from which country Guests is coming**\n",
        "\n",
        "***Chart is showing for top 10 country***"
      ]
    },
    {
      "cell_type": "markdown",
      "metadata": {
        "id": "3IczAtqq-Bbc"
      },
      "source": [
        "##### 2. What is/are the insight(s) found from the chart?"
      ]
    },
    {
      "cell_type": "markdown",
      "metadata": {
        "id": "jHkgBhtQ-Bbc"
      },
      "source": [
        "**As we can see, that maximum guest is coming from Portugal**"
      ]
    },
    {
      "cell_type": "markdown",
      "metadata": {
        "id": "eCGejGEK-Bbc"
      },
      "source": [
        "##### 3. Will the gained insights help creating a positive business impact?\n",
        "Are there any insights that lead to negative growth? Justify with specific reason."
      ]
    },
    {
      "cell_type": "markdown",
      "metadata": {
        "id": "jpb-OmKA-Bbd"
      },
      "source": [
        "**We can do more advertising & can provide attractive offers to  Portugal guests to enhance the customer volume**"
      ]
    },
    {
      "cell_type": "markdown",
      "metadata": {
        "id": "LUhG_ayR-Bbd"
      },
      "source": [
        "#### Chart - 9"
      ]
    },
    {
      "cell_type": "code",
      "execution_count": null,
      "metadata": {
        "id": "K_5fPlh7hXYh"
      },
      "outputs": [],
      "source": [
        "import numpy as np\n",
        "import matplotlib.pyplot as plt\n",
        "\n",
        "order = ['January', 'February', 'March', 'April', 'May', 'June',\n",
        "         'July', 'August', 'September', 'October', 'November', 'December']\n",
        "\n",
        "# Assuming 'df' is your DataFrame\n",
        "ordered_hotel_df = df[df['is_canceled'] == 'not canceled']['arrival_date_month'].value_counts().reindex(order)\n",
        "\n",
        "plt.subplots(figsize=(10, 6))\n",
        "ticks = np.arange(0, 20, 150)\n",
        "labels = [\"{}\".format(i//1) for i in ticks]\n",
        "plt.yticks(ticks, labels)\n",
        "\n",
        "plt.xticks(rotation=60)\n",
        "\n",
        "for xy in zip(ordered_hotel_df.index, ordered_hotel_df.values):\n",
        "    plt.annotate(text=\"{}\".format(xy[1]//1), xy=xy, textcoords='data')\n",
        "\n",
        "plt.plot(ordered_hotel_df.index, ordered_hotel_df.values, linewidth=4, color='r', linestyle='dotted', marker='+', markersize=20, alpha=1)\n",
        "\n",
        "plt.xlabel(\"Months\", fontdict={'fontsize': 12, 'fontweight': 5, 'color': 'Brown'})\n",
        "plt.ylabel(\"Counts\", fontdict={'fontsize': 12, 'fontweight': 5, 'color': 'Brown'})\n",
        "plt.title(\"Month-wise Booking\", fontdict={'fontsize': 20, 'fontweight': 5, 'color': 'Green'})\n",
        "\n",
        "plt.show()\n",
        "\n"
      ]
    },
    {
      "cell_type": "code",
      "execution_count": null,
      "metadata": {
        "id": "zAwi6xWTUIdy"
      },
      "outputs": [],
      "source": [
        "plt.figure(figsize = (8,5))\n",
        "hotel_wise_revenue = df.groupby('hotel')['revenue'].sum()\n",
        "hotel_wise_revenue\n",
        "ax = hotel_wise_revenue.plot(kind = 'bar', color = ('b', 'y'))\n",
        "plt.xlabel(\"Hotel\", fontdict={'fontsize': 12, 'fontweight' : 5, 'color' : 'Brown'})\n",
        "plt.ylabel(\"Total Revenue\", fontdict={'fontsize': 12, 'fontweight' : 5, 'color' : 'Brown'} )\n",
        "plt.title(\"Total Revenue\", fontdict={'fontsize': 12, 'fontweight' : 5, 'color' : 'Green'} )"
      ]
    },
    {
      "cell_type": "code",
      "execution_count": null,
      "metadata": {
        "id": "C3L97tfjoZhl"
      },
      "outputs": [],
      "source": [
        "average_adr = df.groupby('hotel')['adr'].mean()\n",
        "average_adr\n",
        "plt.subplots(figsize=(8, 5))\n",
        "average_adr.plot(kind = 'barh', color = ('g', 'r'))\n",
        "plt.xlabel(\"Average ADR\", fontdict={'fontsize': 12, 'fontweight' : 5, 'color' : 'Brown'})\n",
        "plt.ylabel(\"Hotel Name\", fontdict={'fontsize': 12, 'fontweight' : 5, 'color' : 'Brown'} )\n",
        "plt.title(\"Average ADR of Hotel\", fontdict={'fontsize': 12, 'fontweight' : 5, 'color' : 'Green'} )"
      ]
    },
    {
      "cell_type": "markdown",
      "metadata": {
        "id": "5Oo0prm_-Bbe"
      },
      "source": [
        "##### 1. Why did you pick the specific chart?"
      ]
    },
    {
      "cell_type": "markdown",
      "metadata": {
        "id": "-obw7kOn-Bbe"
      },
      "source": [
        "**To specify the average ADR for both hotels**"
      ]
    },
    {
      "cell_type": "markdown",
      "metadata": {
        "id": "cS2c_Znk-Bbf"
      },
      "source": [
        "##### 2. What is/are the insight(s) found from the chart?"
      ]
    },
    {
      "cell_type": "markdown",
      "metadata": {
        "id": "upOKsPjs-Bbf"
      },
      "source": [
        "**As we can see the average ADR of City hotel is higher than Resort hotel, so the profit and revenue will be higher for city hotel**"
      ]
    },
    {
      "cell_type": "markdown",
      "metadata": {
        "id": "0rruJpaL-Bbf"
      },
      "source": [
        "##### 3. Will the gained insights help creating a positive business impact?\n",
        "Are there any insights that lead to negative growth? Justify with specific reason."
      ]
    },
    {
      "cell_type": "markdown",
      "metadata": {
        "id": "e0B0th4--Bbf"
      },
      "source": [
        "**Here, we can do more advertising for City hotel to get more customer, which result higher profit**"
      ]
    },
    {
      "cell_type": "markdown",
      "metadata": {
        "id": "om1BVSN1-Bbg"
      },
      "source": [
        "#### Chart - 10"
      ]
    },
    {
      "cell_type": "code",
      "execution_count": null,
      "metadata": {
        "id": "MwIEgz9P-Bbg"
      },
      "outputs": [],
      "source": [
        "# Chart - 10 visualization code\n",
        "plt.figure(figsize = (12,6))\n",
        "sns.scatterplot(y = 'total_stay_in_nights', x = 'adr', data = df[df['adr'] < 1000])\n",
        "plt.show() #"
      ]
    },
    {
      "cell_type": "markdown",
      "metadata": {
        "id": "c_X7qrzp-Bbg"
      },
      "source": [
        "##### 1. Why did you pick the specific chart?"
      ]
    },
    {
      "cell_type": "markdown",
      "metadata": {
        "id": "aJoBSx63-Bbg"
      },
      "source": [
        "**To show comparision & affect of total stay days vs ADR**"
      ]
    },
    {
      "cell_type": "markdown",
      "metadata": {
        "id": "dJzxpTmw-Bbg"
      },
      "source": [
        "##### 2. What is/are the insight(s) found from the chart?"
      ]
    },
    {
      "cell_type": "markdown",
      "metadata": {
        "id": "C3tCGgql-Bbh"
      },
      "source": [
        "**Here, we found that if guest's stay days is getting decreased, ADR is getting high**"
      ]
    },
    {
      "cell_type": "markdown",
      "metadata": {
        "id": "LWywDvSY-Bbh"
      },
      "source": [
        "#### Chart - 11"
      ]
    },
    {
      "cell_type": "code",
      "execution_count": null,
      "metadata": {
        "id": "YX9wa2Lv-Bbh"
      },
      "outputs": [],
      "source": [
        "# Chart - 11 visualization code\n",
        "plt.figure(figsize = (12,10), dpi = 100)\n",
        "hotel_wise_meal = df.groupby(['hotel', 'meal'])['meal'].count().unstack()\n",
        "hotel_wise_meal.plot(kind ='bar', figsize = (12,8))\n",
        "hotel_wise_meal"
      ]
    },
    {
      "cell_type": "markdown",
      "metadata": {
        "id": "AEZuLsf0-Bbh"
      },
      "source": [
        "##### 1. Why did you pick the specific chart?"
      ]
    },
    {
      "cell_type": "markdown",
      "metadata": {
        "id": "869gJgTU-Bbh"
      },
      "source": [
        "**To show the meal preferance of the guest hotel-wise**"
      ]
    },
    {
      "cell_type": "markdown",
      "metadata": {
        "id": "qrR4TSQO-Bbi"
      },
      "source": [
        "##### 2. What is/are the insight(s) found from the chart?"
      ]
    },
    {
      "cell_type": "markdown",
      "metadata": {
        "id": "q5YkHydU-Bbi"
      },
      "source": [
        "**As we can see, BB (Bed & breakfast) meal is most prefered by guests in both the hotels. So Hotel can give more delisious dishes in this meal to get customer repeat & attaract new customer**"
      ]
    },
    {
      "cell_type": "markdown",
      "metadata": {
        "id": "t6o6m9bK-Bbi"
      },
      "source": [
        "#### Chart - 12 - Correlation Heatmap"
      ]
    },
    {
      "cell_type": "code",
      "execution_count": null,
      "metadata": {
        "id": "IHRo7BxY-Bbi"
      },
      "outputs": [],
      "source": [
        "# Correlation Heatmap visualization code\n",
        "corr_df = df[['lead_time','previous_cancellations', 'previous_bookings_not_canceled', 'total_guest',\n",
        "                    'booking_changes', 'days_in_waiting_list', 'adr', 'required_car_parking_spaces', 'total_of_special_requests']].corr()\n",
        "f, ax = plt.subplots(figsize=(12, 12))\n",
        "sns.heatmap(corr_df, annot = True, fmt='.2f', annot_kws={'size': 10},  vmax=1, square=True, cmap=\"YlGnBu\")"
      ]
    },
    {
      "cell_type": "markdown",
      "metadata": {
        "id": "yoKO4h_c-Bbi"
      },
      "source": [
        "##### 1. Why did you pick the specific chart?"
      ]
    },
    {
      "cell_type": "markdown",
      "metadata": {
        "id": "2OW6z6Hv-Bbj"
      },
      "source": [
        "**To understand the relationsip between different numerical values**"
      ]
    },
    {
      "cell_type": "markdown",
      "metadata": {
        "id": "eHHS7E74-Bbj"
      },
      "source": [
        "##### 2. What is/are the insight(s) found from the chart?"
      ]
    },
    {
      "cell_type": "markdown",
      "metadata": {
        "id": "nsxZeD3k-Bbj"
      },
      "source": [
        "**Highest corelation value between axis is 39% positive & lowest corelation    value between the axis is -9% negative.**"
      ]
    },
    {
      "cell_type": "markdown",
      "metadata": {
        "id": "lVINq-D6-Bbj"
      },
      "source": [
        "## **5. Solution to Business Objective**"
      ]
    },
    {
      "cell_type": "markdown",
      "metadata": {
        "id": "DsUxk66e-Bbj"
      },
      "source": [
        "**Business objective attained as follows:**\n",
        "\n",
        "1. For hotel business to flourish few things which we need to consider is high revenue generation, customers satisfaction and employeee retention.\n",
        "\n",
        "2. We are able achieve the same by showing the client which are the months which are high in revenue generation by pie chart distribution\n",
        "\n",
        "3. Increasing the revenue achieved by bar chart distribution of which typre room are most reserved and what are the months likely for visitors\n",
        "\n",
        "4. So for these the client can be well prepare in advance so that minimum grievances would be faced by clients in long run and would help in further enhancement of their hospitality.\n",
        "\n",
        "5. Outliers like higher the visitor then adr has reduced drastically was shown in scattered plot so in off season client can engage with offices for bulk booking this will aslo help extra revenue generation\n",
        "\n",
        "6. We are able to show the trend of arrivals of visitor at client locations through which client engaged visitos well advance for there entaertainment and leisure activities\n",
        "\n",
        "7. We where also able to co relate the values showing the max and min percentage between them so that the percenytage lying those numbers can be enhanced by various medium"
      ]
    },
    {
      "cell_type": "markdown",
      "metadata": {
        "id": "LrfSMGWM-Bbj"
      },
      "source": [
        "# **Conclusion**"
      ]
    },
    {
      "cell_type": "markdown",
      "metadata": {
        "id": "aI43672R-Bbk"
      },
      "source": [
        "1. City Hotel seems to be more preferred among travellers and it also generates more revenue & profit.\n",
        "\n",
        "2. Most number of bookings are made in July and August as compared rest of the months.\n",
        "\n",
        "3. Room Type A is the most preferred room type among travellers.\n",
        "\n",
        "4. Most number of bookings are made from Portugal & Great Britain.\n",
        "\n",
        "5. Most of the guest stays for 1-4 days in the hotels.\n",
        "\n",
        "6. City Hotel retains more number of guests.\n",
        "\n",
        "7. Around one-fourth of the total bookings gets cancelled. More cancellations are from City Hotel.\n",
        "\n",
        "8. New guest tends to cancel bookings more than repeated customers.\n",
        "\n",
        "9. Lead time, number of days in waiting list or assignation of reserved room to customer does not affect cancellation of bookings.\n",
        "\n",
        "10. Corporate has the most percentage of repeated guests while TA/TO has the least whereas in the case of cancelled bookings TA/TO has the most percentage while Corporate has the least.\n",
        "\n",
        "11. The length of the stay decreases as ADR increases probably to reduce the cost."
      ]
    },
    {
      "cell_type": "markdown",
      "metadata": {
        "id": "8KwX01cb-Bbk"
      },
      "source": [
        "### ***Hurrah! You have successfully completed your EDA Capstone Project !!!***"
      ]
    }
  ]
}